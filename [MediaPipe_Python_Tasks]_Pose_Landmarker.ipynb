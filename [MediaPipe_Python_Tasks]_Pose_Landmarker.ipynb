{
  "cells": [
    {
      "cell_type": "markdown",
      "metadata": {
        "id": "h2q27gKz1H20"
      },
      "source": [
        "##### Copyright 2023 The MediaPipe Authors. All Rights Reserved."
      ]
    },
    {
      "cell_type": "code",
      "execution_count": null,
      "metadata": {
        "cellView": "form",
        "id": "TUfAcER1oUS6"
      },
      "outputs": [],
      "source": [
        "#@title Licensed under the Apache License, Version 2.0 (the \"License\");\n",
        "# you may not use this file except in compliance with the License.\n",
        "# You may obtain a copy of the License at\n",
        "#\n",
        "# https://www.apache.org/licenses/LICENSE-2.0\n",
        "#\n",
        "# Unless required by applicable law or agreed to in writing, software\n",
        "# distributed under the License is distributed on an \"AS IS\" BASIS,\n",
        "# WITHOUT WARRANTIES OR CONDITIONS OF ANY KIND, either express or implied.\n",
        "# See the License for the specific language governing permissions and\n",
        "# limitations under the License."
      ]
    },
    {
      "cell_type": "markdown",
      "metadata": {
        "id": "L_cQX8dWu4Dv"
      },
      "source": [
        "# Pose Landmarks Detection with MediaPipe Tasks\n",
        "\n",
        "This notebook shows you how to use MediaPipe Tasks Python API to detect pose landmarks from images."
      ]
    },
    {
      "cell_type": "markdown",
      "metadata": {
        "id": "O6PN9FvIx614"
      },
      "source": [
        "## Preparation\n",
        "\n",
        "Let's start with installing MediaPipe.\n"
      ]
    },
    {
      "cell_type": "code",
      "execution_count": 1,
      "metadata": {
        "colab": {
          "base_uri": "https://localhost:8080/"
        },
        "id": "gxbHBsF-8Y_l",
        "outputId": "fce55abc-914b-4811-bfa5-5959c056d1f4"
      },
      "outputs": [
        {
          "name": "stdout",
          "output_type": "stream",
          "text": [
            "\u001b[2K   \u001b[90m━━━━━━━━━━━━━━━━━━━━━━━━━━━━━━━━━━━━━━━━\u001b[0m \u001b[32m35.7/35.7 MB\u001b[0m \u001b[31m33.3 MB/s\u001b[0m eta \u001b[36m0:00:00\u001b[0m\n",
            "\u001b[2K   \u001b[90m━━━━━━━━━━━━━━━━━━━━━━━━━━━━━━━━━━━━━━━━\u001b[0m \u001b[32m294.6/294.6 kB\u001b[0m \u001b[31m15.0 MB/s\u001b[0m eta \u001b[36m0:00:00\u001b[0m\n",
            "\u001b[?25h\u001b[31mERROR: pip's dependency resolver does not currently take into account all the packages that are installed. This behaviour is the source of the following dependency conflicts.\n",
            "tensorflow-metadata 1.15.0 requires protobuf<4.21,>=3.20.3; python_version < \"3.11\", but you have protobuf 4.25.4 which is incompatible.\u001b[0m\u001b[31m\n",
            "\u001b[0m"
          ]
        }
      ],
      "source": [
        "!pip install -q mediapipe"
      ]
    },
    {
      "cell_type": "markdown",
      "metadata": {
        "id": "a49D7h4TVmru"
      },
      "source": [
        "Then download an off-the-shelf model bundle. Check out the [MediaPipe documentation](https://developers.google.com/mediapipe/solutions/vision/pose_landmarker#models) for more information about this model bundle."
      ]
    },
    {
      "cell_type": "code",
      "execution_count": 2,
      "metadata": {
        "id": "OMjuVQiDYJKF"
      },
      "outputs": [],
      "source": [
        "!wget -O pose_landmarker.task -q https://storage.googleapis.com/mediapipe-models/pose_landmarker/pose_landmarker_heavy/float16/1/pose_landmarker_heavy.task"
      ]
    },
    {
      "cell_type": "markdown",
      "metadata": {
        "id": "YYKAJ5nDU8-I"
      },
      "source": [
        "## Visualization utilities"
      ]
    },
    {
      "cell_type": "code",
      "execution_count": 1,
      "metadata": {
        "id": "s3E6NFV-00Qt"
      },
      "outputs": [],
      "source": [
        "#@markdown To better demonstrate the Pose Landmarker API, we have created a set of visualization tools that will be used in this colab. These will draw the landmarks on a detect person, as well as the expected connections between those markers.\n",
        "\n",
        "from mediapipe import solutions\n",
        "from mediapipe.framework.formats import landmark_pb2\n",
        "import numpy as np\n",
        "\n",
        "\n",
        "def draw_landmarks_on_image(rgb_image, detection_result):\n",
        "  pose_landmarks_list = detection_result.pose_landmarks\n",
        "  annotated_image = np.copy(rgb_image)\n",
        "\n",
        "  # Loop through the detected poses to visualize.\n",
        "  for idx in range(len(pose_landmarks_list)):\n",
        "    pose_landmarks = pose_landmarks_list[idx]\n",
        "\n",
        "    # Draw the pose landmarks.\n",
        "    pose_landmarks_proto = landmark_pb2.NormalizedLandmarkList()\n",
        "    pose_landmarks_proto.landmark.extend([\n",
        "      landmark_pb2.NormalizedLandmark(x=landmark.x, y=landmark.y, z=landmark.z) for landmark in pose_landmarks\n",
        "    ])\n",
        "    solutions.drawing_utils.draw_landmarks(\n",
        "      annotated_image,\n",
        "      pose_landmarks_proto,\n",
        "      solutions.pose.POSE_CONNECTIONS,\n",
        "      solutions.drawing_styles.get_default_pose_landmarks_style())\n",
        "  return annotated_image"
      ]
    },
    {
      "cell_type": "markdown",
      "metadata": {
        "id": "83PEJNp9yPBU"
      },
      "source": [
        "## Download test image\n",
        "\n",
        "To demonstrate the Pose Landmarker API, you can download a sample image using the follow code. The image is from [Pixabay](https://pixabay.com/photos/girl-woman-fitness-beautiful-smile-4051811/)."
      ]
    },
    {
      "cell_type": "code",
      "execution_count": 4,
      "metadata": {},
      "outputs": [
        {
          "name": "stderr",
          "output_type": "stream",
          "text": [
            "'wget' is not recognized as an internal or external command,\n",
            "operable program or batch file.\n"
          ]
        }
      ],
      "source": [
        "!wget -q -O image.jpg https://cdn.pixabay.com/photo/2019/03/12/20/39/girl-4051811_960_720.jpg"
      ]
    },
    {
      "cell_type": "code",
      "execution_count": 6,
      "metadata": {
        "colab": {
          "base_uri": "https://localhost:8080/",
          "height": 657
        },
        "id": "tzXuqyIBlXer",
        "outputId": "8989ca1b-0f3b-4a82-b788-ffc8b37975ab"
      },
      "outputs": [
        {
          "data": {
            "text/plain": [
              "-1"
            ]
          },
          "execution_count": 6,
          "metadata": {},
          "output_type": "execute_result"
        }
      ],
      "source": [
        "\n",
        "\n",
        "import cv2\n",
        "\n",
        "\n",
        "img = cv2.imread(\"girl.jpg\")\n",
        "cv2.imshow(\"image\", img)\n",
        "cv2.waitKey(0)"
      ]
    },
    {
      "cell_type": "markdown",
      "metadata": {
        "id": "u-skLwMBmMN_"
      },
      "source": [
        "Optionally, you can upload your own image. If you want to do so, uncomment and run the cell below."
      ]
    },
    {
      "cell_type": "code",
      "execution_count": null,
      "metadata": {
        "id": "etBjSdwImQPw"
      },
      "outputs": [],
      "source": [
        "# from google.colab import files\n",
        "# uploaded = files.upload()\n",
        "\n",
        "# for filename in uploaded:\n",
        "#   content = uploaded[filename]\n",
        "#   with open(filename, 'wb') as f:\n",
        "#     f.write(content)\n",
        "\n",
        "# if len(uploaded.keys()):\n",
        "#   IMAGE_FILE = next(iter(uploaded))\n",
        "#   print('Uploaded file:', IMAGE_FILE)"
      ]
    },
    {
      "cell_type": "markdown",
      "metadata": {
        "id": "Iy4r2_ePylIa"
      },
      "source": [
        "## Running inference and visualizing the results\n",
        "\n",
        "The final step is to run pose landmark detection on your selected image. This involves creating your PoseLandmarker object, loading your image, running detection, and finally, the optional step of displaying the image with visualizations.\n",
        "\n",
        "Check out the [MediaPipe documentation](https://developers.google.com/mediapipe/solutions/vision/pose_landmarker/python) to learn more about configuration options that this solution supports.\n"
      ]
    },
    {
      "cell_type": "code",
      "execution_count": 8,
      "metadata": {
        "colab": {
          "base_uri": "https://localhost:8080/",
          "height": 712
        },
        "id": "_JVO3rvPD4RN",
        "outputId": "4614adaf-d65f-4348-b843-52c26d2f4c5f"
      },
      "outputs": [
        {
          "name": "stderr",
          "output_type": "stream",
          "text": [
            "c:\\Users\\ASUS\\.conda\\envs\\gym-ai\\lib\\site-packages\\google\\protobuf\\symbol_database.py:55: UserWarning: SymbolDatabase.GetPrototype() is deprecated. Please use message_factory.GetMessageClass() instead. SymbolDatabase.GetPrototype() will be removed soon.\n",
            "  warnings.warn('SymbolDatabase.GetPrototype() is deprecated. Please '\n"
          ]
        },
        {
          "data": {
            "text/plain": [
              "-1"
            ]
          },
          "execution_count": 8,
          "metadata": {},
          "output_type": "execute_result"
        }
      ],
      "source": [
        "# STEP 1: Import the necessary modules.\n",
        "import mediapipe as mp\n",
        "from mediapipe.tasks import python\n",
        "from mediapipe.tasks.python import vision\n",
        "\n",
        "# STEP 2: Create an PoseLandmarker object.\n",
        "base_options = python.BaseOptions(model_asset_path='pose_landmarker_heavy.task')\n",
        "options = vision.PoseLandmarkerOptions(\n",
        "    base_options=base_options,\n",
        "    output_segmentation_masks=True)\n",
        "detector = vision.PoseLandmarker.create_from_options(options)\n",
        "\n",
        "# STEP 3: Load the input image.\n",
        "image = mp.Image.create_from_file(\"girl.jpg\")\n",
        "\n",
        "# STEP 4: Detect pose landmarks from the input image.\n",
        "detection_result = detector.detect(image)\n",
        "\n",
        "# STEP 5: Process the detection result. In this case, visualize it.\n",
        "annotated_image = draw_landmarks_on_image(image.numpy_view(), detection_result)\n",
        "cv2.imshow(\"detection\", cv2.cvtColor(annotated_image, cv2.COLOR_RGB2BGR))\n",
        "cv2.waitKey(0)"
      ]
    },
    {
      "cell_type": "markdown",
      "metadata": {
        "id": "_BwzFvaxwtPX"
      },
      "source": [
        "Visualize the pose segmentation mask."
      ]
    },
    {
      "cell_type": "code",
      "execution_count": 9,
      "metadata": {
        "colab": {
          "base_uri": "https://localhost:8080/",
          "height": 657
        },
        "id": "3jAIFzw9M3JJ",
        "outputId": "1ea11f0d-8685-44d9-b32a-afadbd791cc9"
      },
      "outputs": [
        {
          "data": {
            "text/plain": [
              "113"
            ]
          },
          "execution_count": 9,
          "metadata": {},
          "output_type": "execute_result"
        },
        {
          "ename": "",
          "evalue": "",
          "output_type": "error",
          "traceback": [
            "\u001b[1;31mThe Kernel crashed while executing code in the current cell or a previous cell. \n",
            "\u001b[1;31mPlease review the code in the cell(s) to identify a possible cause of the failure. \n",
            "\u001b[1;31mClick <a href='https://aka.ms/vscodeJupyterKernelCrash'>here</a> for more info. \n",
            "\u001b[1;31mView Jupyter <a href='command:jupyter.viewOutput'>log</a> for further details."
          ]
        }
      ],
      "source": [
        "segmentation_mask = detection_result.segmentation_masks[0].numpy_view()\n",
        "visualized_mask = np.repeat(segmentation_mask[:, :, np.newaxis], 3, axis=2) * 255\n",
        "cv2.imshow(\"Masked Image\", visualized_mask)\n",
        "cv2.waitKey(0)"
      ]
    },
    {
      "cell_type": "code",
      "execution_count": 33,
      "metadata": {
        "id": "QipRi2ozw7cg"
      },
      "outputs": [
        {
          "name": "stdout",
          "output_type": "stream",
          "text": [
            "(300, 300)\n",
            "165.96375653207352 -63.43494882292201 (300, 300)\n",
            "165.96375653207352 296.565051177078 (300, 300)\n"
          ]
        }
      ],
      "source": [
        "import cv2\n",
        "import numpy as np\n",
        "\n",
        "# Function to calculate the intersection of two lines\n",
        "def line_intersection(line1, line2):\n",
        "    xdiff = (line1[0] - line1[2], line2[0] - line2[2])\n",
        "    ydiff = (line1[1] - line1[3], line2[1] - line2[3])\n",
        "\n",
        "    def det(a, b):\n",
        "        return a[0] * b[1] - a[1] * b[0]\n",
        "\n",
        "    div = det(xdiff, ydiff)\n",
        "    if div == 0:\n",
        "       raise Exception('Lines do not intersect')\n",
        "\n",
        "    d = (det((line1[0], line1[1]), (line1[2], line1[3])), det((line2[0], line2[1]), (line2[2], line2[3])))\n",
        "    x = det(d, xdiff) / div\n",
        "    y = det(d, ydiff) / div\n",
        "    return int(x), int(y)\n",
        "\n",
        "# Define two lines (x1, y1, x2, y2)\n",
        "line1 = (100, 350, 300, 300)\n",
        "line2 = (400, 100, 300, 300)\n",
        "\n",
        "# Create a blank image\n",
        "image = np.zeros((500, 500, 3), dtype=np.uint8)\n",
        "# image = cv2.imread('girl.jpg')\n",
        "# Draw the two lines\n",
        "cv2.line(image, (line1[0], line1[1]), (line1[2], line1[3]), (255, 0, 0), 2)\n",
        "cv2.line(image, (line2[0], line2[1]), (line2[2], line2[3]), (0, 0, 255), 2)\n",
        "\n",
        "# Find the intersection point of the two lines\n",
        "intersection = line_intersection(line1, line2)\n",
        "print(intersection)\n",
        "# Calculate the angles of the two lines relative to the intersection point\n",
        "angle1 = np.arctan2(line1[1] - intersection[1], line1[0] - intersection[0])\n",
        "angle2 = np.arctan2(line2[1] - intersection[1], line2[0] - intersection[0])\n",
        "\n",
        "# Convert angles to degrees\n",
        "angle1 = np.degrees(angle1)\n",
        "angle2 = np.degrees(angle2)\n",
        "print(angle1, angle2, intersection)\n",
        "# Ensure the angle is within the 0-360 degree range for OpenCV\n",
        "if angle1 < 0:\n",
        "    angle1 += 360\n",
        "if angle2 < 0:\n",
        "    angle2 += 360\n",
        "# Define the radius of the arc\n",
        "radius = 100\n",
        "print(angle1, angle2, intersection)\n",
        "# Draw the arc between the two lines\n",
        "cv2.ellipse(image, intersection, (radius, radius), 0, angle1, angle2, (0, 255, 0), 2)\n",
        "\n",
        "# Show the image\n",
        "cv2.imshow('Arc between lines', image)\n",
        "cv2.waitKey(0)\n",
        "cv2.destroyAllWindows()"
      ]
    },
    {
      "cell_type": "code",
      "execution_count": 8,
      "metadata": {},
      "outputs": [
        {
          "data": {
            "text/plain": [
              "76.7594800848128"
            ]
          },
          "execution_count": 8,
          "metadata": {},
          "output_type": "execute_result"
        }
      ],
      "source": [
        "import math \n",
        "m2, m1 = (300-250)/(300-100), (200)/(-100)\n",
        "\n",
        "angle = math.degrees(math.atan(m2-m1/(1+m1*m2)))\n",
        "angle"
      ]
    },
    {
      "cell_type": "code",
      "execution_count": 44,
      "metadata": {},
      "outputs": [
        {
          "name": "stdout",
          "output_type": "stream",
          "text": [
            "76.7594800848128\n"
          ]
        }
      ],
      "source": [
        "import cv2\n",
        "import numpy as np\n",
        "\n",
        "# Define two lines (in the form of point1, point2)\n",
        "line1_start = (100, 350)\n",
        "line2_start = (400, 100)\n",
        "line1_end = (300, 300)\n",
        "line2_end = (300, 300)\n",
        "\n",
        "# Draw the two lines\n",
        "image = np.zeros((500, 500, 3), dtype=np.uint8)\n",
        "cv2.line(image, line1_start, line1_end, (255, 255, 255), 2)\n",
        "cv2.line(image, line2_start, line2_end, (255, 255, 255), 2)\n",
        "\n",
        "# Calculate the angle between the two lines\n",
        "angle1 = np.arctan2(line1_end[1] - line1_start[1], line1_end[0] - line1_start[0])\n",
        "angle2 = np.arctan2(line2_end[1] - line2_start[1], line2_end[0] - line2_start[0])\n",
        "\n",
        "# Intersection point is the same for both lines (line1_start and line2_start)\n",
        "intersection = line1_end\n",
        "\n",
        "# Define the radius of the arc\n",
        "radius = 50\n",
        "\n",
        "# Convert angles from radians to degrees\n",
        "start_angle = np.degrees(angle1)\n",
        "end_angle = np.degrees(angle2)\n",
        "print(angle)\n",
        "\n",
        "arc_angle = abs(angle2 - angle1)\n",
        "if arc_angle > 180:\n",
        "    arc_angle = 360 - arc_angle\n",
        "\n",
        "start_angle = min(angle1, angle2)\n",
        "end_angle = start_angle + arc_angle\n",
        "# Ensure the angle is within the 0-360 degree range for OpenCV\n",
        "# if start_angle < 0:\n",
        "#     start_angle += 360\n",
        "# if end_angle < 0:\n",
        "#     end_angle += 360\n",
        "\n",
        "# Draw the arc using the intersection point, radius, and angles\n",
        "cv2.ellipse(image, intersection, (radius, radius), 0, start_angle, end_angle, (0, 255, 0), 2)\n",
        "\n",
        "# Display the image\n",
        "cv2.imshow(\"Arc between lines\", image)\n",
        "cv2.waitKey(0)\n",
        "cv2.destroyAllWindows()"
      ]
    },
    {
      "cell_type": "code",
      "execution_count": 13,
      "metadata": {},
      "outputs": [
        {
          "name": "stdout",
          "output_type": "stream",
          "text": [
            "2.896613990462929 -1.1071487177940904 165.96375653207352 -63.43494882292201\n",
            "arc_angle:  229.3987053549955\n",
            " Start Angle: 165.96375653207352 End Angle: 296.565051177078\n"
          ]
        }
      ],
      "source": [
        "import cv2\n",
        "import numpy as np\n",
        "import math\n",
        "\n",
        "# Define the points for the two lines\n",
        "line1_start = (100, 350)\n",
        "line1_end = (300, 300)\n",
        "line2_start = (400, 100)\n",
        "line2_end = (300, 300)\n",
        "\n",
        "# Create a blank image\n",
        "image = np.zeros((500, 500, 3), dtype=np.uint8)\n",
        "\n",
        "# Draw the two lines\n",
        "cv2.line(image, line1_start, line1_end, (255, 0, 0), 2)\n",
        "cv2.line(image, line2_start, line2_end, (0, 255, 0), 2)\n",
        "\n",
        "# Calculate angles of the two lines relative to the horizontal\n",
        "angle1 = math.atan2(line1_start[1] - line1_end[1], line1_start[0] - line1_end[0])\n",
        "angle2 = math.atan2(line2_start[1] - line2_end[1], line2_start[0] - line2_end[0])\n",
        "# Convert angles from radians to degrees\n",
        "angle1_deg = np.degrees(angle1)\n",
        "angle2_deg = np.degrees(angle2)\n",
        "print(angle1, angle2, angle1_deg, angle2_deg)\n",
        "\n",
        "# Ensure the angles are positive and lie within 0 to 360 degrees\n",
        "# angle1_deg = angle1_deg % 360\n",
        "# angle2_deg = angle2_deg % 360\n",
        "\n",
        "# Calculate the internal angle between the two lines\n",
        "arc_angle = abs(angle2_deg - angle1_deg)\n",
        "print(\"arc_angle: \", arc_angle)\n",
        "if arc_angle > 180:\n",
        "    arc_angle = 360 - arc_angle  # Use the smaller angle\n",
        "\n",
        "# Define the center of the arc (intersection point of the lines)\n",
        "center = line1_end  # Intersection at (300, 300)\n",
        "\n",
        "# Define radius for the arc\n",
        "radius = 50\n",
        "\n",
        "# Determine the start and end angles for the arc\n",
        "start_angle = max(angle1_deg, angle2_deg)\n",
        "end_angle = start_angle + arc_angle\n",
        "print(f\" Start Angle: {start_angle} End Angle: {end_angle}\")\n",
        "\n",
        "# Draw the arc\n",
        "cv2.ellipse(image, center, (radius, radius), 0, start_angle, end_angle, (0, 255, 255), 2)\n",
        "\n",
        "# Show the image\n",
        "cv2.imshow('Arc between lines', image)\n",
        "cv2.waitKey(0)\n",
        "cv2.destroyAllWindows()\n"
      ]
    },
    {
      "cell_type": "code",
      "execution_count": 14,
      "metadata": {},
      "outputs": [
        {
          "name": "stdout",
          "output_type": "stream",
          "text": [
            "2.896613990462929 -2.0344439357957027 165.96375653207352 -116.56505117707799\n",
            "arc_angle:  282.5288077091515\n",
            " Start Angle: 165.96375653207352 End Angle: 243.434948822922\n"
          ]
        }
      ],
      "source": [
        "import cv2\n",
        "import numpy as np\n",
        "import math\n",
        "\n",
        "\"\"\"\n",
        "In case the angle between the joints is less than 180\n",
        "\"\"\"\n",
        "\n",
        "# Define the points for the two lines\n",
        "line1_start = (100, 350)\n",
        "line1_end = (300, 300)\n",
        "line2_start = (200, 100)\n",
        "line2_end = (300, 300)\n",
        "\n",
        "# Create a blank image\n",
        "image = np.zeros((500, 500, 3), dtype=np.uint8)\n",
        "\n",
        "# Draw the two lines\n",
        "cv2.line(image, line1_start, line1_end, (255, 0, 0), 2)\n",
        "cv2.line(image, line2_start, line2_end, (0, 255, 0), 2)\n",
        "\n",
        "# Calculate angles of the two lines relative to the horizontal\n",
        "angle1 = math.atan2(line1_start[1] - line1_end[1], line1_start[0] - line1_end[0])\n",
        "angle2 = math.atan2(line2_start[1] - line2_end[1], line2_start[0] - line2_end[0])\n",
        "# Convert angles from radians to degrees\n",
        "angle1_deg = np.degrees(angle1)\n",
        "angle2_deg = np.degrees(angle2)\n",
        "print(angle1, angle2, angle1_deg, angle2_deg)\n",
        "\n",
        "# Ensure the angles are positive and lie within 0 to 360 degrees\n",
        "# angle1_deg = angle1_deg % 360\n",
        "# angle2_deg = angle2_deg % 360\n",
        "\n",
        "# Calculate the internal angle between the two lines\n",
        "arc_angle = abs(angle2_deg - angle1_deg)\n",
        "print(\"arc_angle: \", arc_angle)\n",
        "if arc_angle > 180:\n",
        "    arc_angle = 360 - arc_angle  # Use the smaller angle\n",
        "\n",
        "# Define the center of the arc (intersection point of the lines)\n",
        "center = line1_end  # Intersection at (300, 300)\n",
        "\n",
        "# Define radius for the arc\n",
        "radius = 50\n",
        "\n",
        "# Determine the start and end angles for the arc\n",
        "start_angle = max(angle1_deg, angle2_deg)\n",
        "end_angle = start_angle + arc_angle\n",
        "print(f\" Start Angle: {start_angle} End Angle: {end_angle}\")\n",
        "\n",
        "# Draw the arc\n",
        "cv2.ellipse(image, center, (radius, radius), 0, start_angle, end_angle, (0, 255, 255), 2)\n",
        "\n",
        "# Show the image\n",
        "cv2.imshow('Arc between lines', image)\n",
        "cv2.waitKey(0)\n",
        "cv2.destroyAllWindows()\n"
      ]
    },
    {
      "cell_type": "code",
      "execution_count": 4,
      "metadata": {},
      "outputs": [],
      "source": [
        "import cv2\n",
        "import numpy as np\n",
        "import math\n",
        "\n",
        "def calculate_angle(a, b, c):\n",
        "    \"\"\"\n",
        "    Calculate the angle between three points.\n",
        "    Args:\n",
        "    a, b, c: tuples of (x, y) coordinates\n",
        "    Returns:\n",
        "    Angle in degrees\n",
        "    \"\"\"\n",
        "    ang = math.degrees(math.atan2(c[1]-b[1], c[0]-b[0]) - math.atan2(a[1]-b[1], a[0]-b[0]))\n",
        "    return ang + 360 if ang < 0 else ang\n",
        "\n",
        "def draw_angle_arc(image, point1, point2, point3, color=(0, 255, 255), radius=50):\n",
        "    \"\"\"\n",
        "    Draw an arc representing the angle between three points.\n",
        "    Args:\n",
        "    image: numpy array, the image to draw on\n",
        "    point1, point2, point3: tuples of (x, y) coordinates\n",
        "    color: tuple of (B, G, R) values for the arc color\n",
        "    radius: radius of the arc\n",
        "    \"\"\"\n",
        "    # Calculate the angle\n",
        "    angle = calculate_angle(point1, point2, point3)\n",
        "    \n",
        "    # Calculate the start and end angles for the arc\n",
        "    start_angle = math.atan2(point1[1] - point2[1], point1[0] - point2[0])\n",
        "    end_angle = math.atan2(point3[1] - point2[1], point3[0] - point2[0])\n",
        "    \n",
        "    # Convert angles to degrees\n",
        "    start_angle = math.degrees(start_angle)\n",
        "    end_angle = math.degrees(end_angle)\n",
        "    \n",
        "    # Ensure the arc is drawn in the correct direction\n",
        "    if start_angle > end_angle:\n",
        "        start_angle, end_angle = end_angle, start_angle\n",
        "    \n",
        "    # Draw the arc\n",
        "    cv2.ellipse(image, point2, (radius, radius), 0, start_angle, end_angle, color, 2)\n",
        "    \n",
        "    # Add text to display the angle\n",
        "    cv2.putText(image, f\"{angle:.1f}\", \n",
        "                (point2[0] - 30, point2[1] - 30), \n",
        "                cv2.FONT_HERSHEY_SIMPLEX, 0.7, color, 2)\n",
        "\n",
        "# Create a blank image\n",
        "image = np.zeros((500, 500, 3), dtype=np.uint8)\n",
        "\n",
        "# Define points for different scenarios\n",
        "scenarios = [\n",
        "    [(100, 350), (300, 300), (200, 100)],  # Original scenario\n",
        "    [(400, 100), (300, 300), (100, 200)],  # Facing right\n",
        "    [(100, 200), (300, 300), (400, 100)],  # Facing left\n",
        "    [(200, 400), (300, 300), (400, 200)],  # Upside down\n",
        "]\n",
        "\n",
        "# Draw lines and arcs for each scenario\n",
        "for i, (point1, point2, point3) in enumerate(scenarios):\n",
        "    # Draw lines\n",
        "    cv2.line(image, point1, point2, (255, 0, 0), 2)\n",
        "    cv2.line(image, point2, point3, (0, 255, 0), 2)\n",
        "    \n",
        "    # Draw angle arc\n",
        "    draw_angle_arc(image, point1, point2, point3)\n",
        "    \n",
        "    # Label the scenario\n",
        "    cv2.putText(image, f\"Scenario {i+1}\", \n",
        "                (point2[0] + 10, point2[1] + 40), \n",
        "                cv2.FONT_HERSHEY_SIMPLEX, 0.5, (255, 255, 255), 1)\n",
        "\n",
        "    # Show the image\n",
        "    cv2.imshow(f'Angle Scenarios {i+1}', image)\n",
        "    cv2.waitKey(0)\n",
        "    cv2.destroyAllWindows()"
      ]
    },
    {
      "cell_type": "code",
      "execution_count": 4,
      "metadata": {},
      "outputs": [],
      "source": [
        "import cv2\n",
        "import numpy as np\n",
        "import math\n",
        "\n",
        "def calculate_angle(a, b, c):\n",
        "    \"\"\"\n",
        "    Calculate the angle between three points.\n",
        "    Args:\n",
        "    a, b, c: tuples of (x, y) coordinates\n",
        "    Returns:\n",
        "    Angle in degrees\n",
        "    \"\"\"\n",
        "    ang = math.degrees(math.atan2(c[1]-b[1], c[0]-b[0]) - math.atan2(a[1]-b[1], a[0]-b[0]))\n",
        "    return ang + 360 if ang < 0 else ang\n",
        "\n",
        "def draw_interior_angle_arc(image, point1, point2, point3, color=(0, 255, 255), radius=50):\n",
        "    \"\"\"\n",
        "    Draw an arc representing the interior angle between three points.\n",
        "    Args:\n",
        "    image: numpy array, the image to draw on\n",
        "    point1, point2, point3: tuples of (x, y) coordinates\n",
        "    color: tuple of (B, G, R) values for the arc color\n",
        "    radius: radius of the arc\n",
        "    \"\"\"\n",
        "    # Calculate the angle\n",
        "    angle = calculate_angle(point1, point2, point3)\n",
        "    \n",
        "    # Calculate the start and end angles for the arc\n",
        "    start_vector = (point1[0] - point2[0], point1[1] - point2[1])\n",
        "    end_vector = (point3[0] - point2[0], point3[1] - point2[1])\n",
        "    \n",
        "    start_angle = math.atan2(start_vector[1], start_vector[0])\n",
        "    end_angle = math.atan2(end_vector[1], end_vector[0])\n",
        "    \n",
        "    # Convert angles to degrees\n",
        "    start_angle = math.degrees(start_angle)\n",
        "    end_angle = math.degrees(end_angle)\n",
        "    \n",
        "    # Ensure we're drawing the interior angle arc\n",
        "    if abs(end_angle - start_angle) > 180:\n",
        "        if start_angle < end_angle:\n",
        "            start_angle += 360\n",
        "        else:\n",
        "            end_angle += 360\n",
        "    \n",
        "    # Draw the arc\n",
        "    cv2.ellipse(image, point2, (radius, radius), 0, start_angle, end_angle, color, 2)\n",
        "    \n",
        "    # Add text to display the angle\n",
        "    cv2.putText(image, f\"{angle:.1f}\", \n",
        "                (point2[0] - 30, point2[1] - 30), \n",
        "                cv2.FONT_HERSHEY_SIMPLEX, 0.7, color, 2)\n",
        "\n",
        "# Define points for different scenarios\n",
        "scenarios = [\n",
        "    [(458, 232), (518, 199), (571, 144)],  # Your specific scenario\n",
        "    [(100, 350), (300, 300), (200, 100)],  # Original scenario\n",
        "    [(400, 100), (300, 300), (100, 200)],  # Facing right\n",
        "    [(100, 200), (300, 300), (400, 100)],  # Facing left\n",
        "    [(200, 400), (300, 300), (400, 200)],  # Upside down\n",
        "]\n",
        "\n",
        "# Process each scenario\n",
        "for i, (point1, point2, point3) in enumerate(scenarios):\n",
        "    # Create a new blank image for each scenario\n",
        "    image = np.zeros((600, 600, 3), dtype=np.uint8)\n",
        "    \n",
        "    # Draw lines\n",
        "    cv2.line(image, point1, point2, (255, 0, 0), 2)\n",
        "    cv2.line(image, point2, point3, (0, 255, 0), 2)\n",
        "    \n",
        "    # Draw interior angle arc\n",
        "    draw_interior_angle_arc(image, point1, point2, point3)\n",
        "    \n",
        "    # Label the scenario\n",
        "    cv2.putText(image, f\"Scenario {i+1}\", \n",
        "                (10, 30), \n",
        "                cv2.FONT_HERSHEY_SIMPLEX, 1, (255, 255, 255), 2)\n",
        "\n",
        "    # Show the image\n",
        "    cv2.imshow(f'Angle Scenario {i+1}', image)\n",
        "    cv2.waitKey(0)\n",
        "    cv2.destroyAllWindows()"
      ]
    },
    {
      "cell_type": "code",
      "execution_count": null,
      "metadata": {},
      "outputs": [],
      "source": []
    }
  ],
  "metadata": {
    "colab": {
      "provenance": []
    },
    "kernelspec": {
      "display_name": "gym-ai",
      "language": "python",
      "name": "python3"
    },
    "language_info": {
      "codemirror_mode": {
        "name": "ipython",
        "version": 3
      },
      "file_extension": ".py",
      "mimetype": "text/x-python",
      "name": "python",
      "nbconvert_exporter": "python",
      "pygments_lexer": "ipython3",
      "version": "3.9.19"
    }
  },
  "nbformat": 4,
  "nbformat_minor": 0
}
